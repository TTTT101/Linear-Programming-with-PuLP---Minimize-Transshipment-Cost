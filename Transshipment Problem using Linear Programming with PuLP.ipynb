{
 "cells": [
  {
   "cell_type": "code",
   "execution_count": 5,
   "id": "3dc7d1f3",
   "metadata": {},
   "outputs": [],
   "source": [
    "# Import Packages\n",
    "import pandas as pd\n",
    "import numpy as np\n",
    "from gurobipy import *\n",
    "import matplotlib.pyplot as plt # Import Matplotlib tool kit \n",
    "import networkx as nx # Import NetworkX tool kit\n",
    "from pulp import *\n",
    "from scipy.optimize import linprog\n",
    "from cvxopt import matrix\n",
    "from cvxopt import glpk\n",
    "\n",
    "from scipy.optimize import minimize\n",
    "from matplotlib import cm\n",
    "import cvxpy as cp\n",
    "from scipy.linalg import circulant"
   ]
  },
  {
   "cell_type": "code",
   "execution_count": null,
   "id": "b163627c",
   "metadata": {},
   "outputs": [],
   "source": [
    "#------------------PROBLEM 4 MINIMUM COST NETWORK FLOW--------------------------------------------------------------------------\n",
    "# The code is retrieved and referenced from below sources\n",
    "#https://developers.google.com/optimization/flow/mincostflow\n",
    "#https://machinelearninggeek.com/transshipment-problem-in-python-using-pulp/"
   ]
  },
  {
   "cell_type": "code",
   "execution_count": 9,
   "id": "eb0f64b0",
   "metadata": {},
   "outputs": [],
   "source": [
    "#Transshipment Problem\n",
    "#input values about routes and costs\n",
    "#data =pd.read_excel(r'C:\\Users\\thaot\\Desktop\\HW 5 Excel input.xlsx',sheet_name='q4')\n",
    "data =pd.read_excel(\"C:/Users/thanhthaopro/Downloads/hw5 excel for optimization.xlsx\",sheet_name='Sheet1')\n",
    "data.head()"
   ]
  },
  {
   "cell_type": "code",
   "execution_count": null,
   "id": "d546ec63",
   "metadata": {},
   "outputs": [],
   "source": [
    "# Create lists of routes, costs, supply, demand and transhipment \n",
    "routes =data['routes']\n",
    "shipping_cost = dict(zip(routes,data['cost']))\n",
    "\n",
    "production_cost = dict(zip(routes,data['prod_cost']))\n",
    "\n",
    "\n",
    "supply = {1:6500, 2:6000}\n",
    "demand = {3:0,4:0,5:5000, 6:4000,7:3000,8:500}\n",
    "transhipment = {3:3000, 4:4000}"
   ]
  },
  {
   "cell_type": "code",
   "execution_count": null,
   "id": "88847f4f",
   "metadata": {},
   "outputs": [],
   "source": [
    "#Initialize LP Model\n",
    "# Creates the 'prob' variable to contain the problem data\n",
    "prob = LpProblem(\"Minimizing_the_cost\",LpMinimize)\n",
    "#variable declaration \n",
    "route_qty = LpVariable.dicts(\"arc\",routes,lowBound=0,upBound=2200,cat='Continuous')\n",
    "\n",
    "#Define Objective Function\n",
    "# The objective function is added to 'prob' first\n",
    "prob += lpSum([(shipping_cost[route]*route_qty[route] + production_cost[route]*route_qty[route])  for route in routes])\n",
    "\n",
    "#enforcing the supply or manufacturing constraints\n",
    "for  i in [1,2]:\n",
    "    relevant = []\n",
    "    for id,key in enumerate(route_qty.keys()):\n",
    "        if not(key.find(str(i)) ==-1):\n",
    "            relevant.append(key)\n",
    "    print(relevant)\n",
    "    print(supply[i])\n",
    "    prob+=lpSum([route_qty[route] for route in relevant])==supply[i]"
   ]
  },
  {
   "cell_type": "code",
   "execution_count": null,
   "id": "5208ab38",
   "metadata": {},
   "outputs": [],
   "source": [
    "#enforcing the demand constraints \n",
    "for  i in [5,6,7,8]:\n",
    "    relevant = []\n",
    "    for id,key in enumerate(route_qty.keys()):\n",
    "        if not(key[-1].find(str(i)) ==-1):\n",
    "            relevant.append(key)\n",
    "    print(relevant)\n",
    "    print(demand[i])\n",
    "    print(lpSum([route_qty[route] for route in relevant]))\n",
    "    prob+=lpSum([route_qty[route] for route in relevant])==demand[i]"
   ]
  },
  {
   "cell_type": "code",
   "execution_count": null,
   "id": "12fa0491",
   "metadata": {},
   "outputs": [],
   "source": [
    "#enforcing flow balance at transhipment (in flow is equal to out flow)\n",
    "for  i in [3,4]:\n",
    "    relevant = []\n",
    "    relevant_out = []\n",
    "    for id,key in enumerate(route_qty.keys()):\n",
    "        if not(key[-1].find(str(i)) ==-1):\n",
    "            relevant.append(key)\n",
    "        if key[-3]==str(i):\n",
    "            relevant_out.append(key)\n",
    "\n",
    "    print(lpSum(([route_qty[route] for route in relevant]) ) - lpSum(([route_qty[route] for route in relevant_out]) ))\n",
    "    prob+=lpSum(([route_qty[route] for route in relevant]) ) - lpSum(([route_qty[route] for route in relevant_out]) )==demand[i]"
   ]
  },
  {
   "cell_type": "code",
   "execution_count": null,
   "id": "118ac0cb",
   "metadata": {},
   "outputs": [],
   "source": [
    "# solving the problem using pulp solver\n",
    "prob.solve()\n",
    "print(pulp.value(prob.objective))\n",
    "# printing the status of the solution\n",
    "print(\"Status:\", LpStatus[prob.status])\n",
    "\n",
    "for v in prob.variables():\n",
    "    if v.varValue>0:\n",
    "        print(v.name, \"=\", v.varValue)"
   ]
  },
  {
   "cell_type": "code",
   "execution_count": null,
   "id": "07e22c48",
   "metadata": {},
   "outputs": [],
   "source": [
    "#------------4c adding new constraint for transhipment nodes Denver and Memphis------------------------------------------------"
   ]
  },
  {
   "cell_type": "code",
   "execution_count": null,
   "id": "f3434cab",
   "metadata": {},
   "outputs": [],
   "source": [
    "#enforcing the demand constraints\n",
    "for  i in [3,4]:\n",
    "    relevant = []\n",
    "    for id,key in enumerate(route_qty.keys()):\n",
    "        if not(key[-1].find(str(i)) ==-1):\n",
    "            relevant.append(key)\n",
    "    print(relevant)\n",
    "    \n",
    "    print(lpSum([route_qty[route] for route in relevant]))\n",
    "    prob+=lpSum([route_qty[route] for route in relevant])==transhipment[i]\n",
    "\n",
    "# solving the problem using pulp solver\n",
    "prob.solve()\n",
    "print(pulp.value(prob.objective))\n",
    "# The status of the solution is printed to the screen\n",
    "print(\"Status:\", LpStatus[prob.status])\n",
    "\n",
    "for v in prob.variables():\n",
    "    if v.varValue>0:\n",
    "        print(v.name, \"=\", v.varValue)"
   ]
  },
  {
   "cell_type": "code",
   "execution_count": null,
   "id": "d2fcb597",
   "metadata": {},
   "outputs": [],
   "source": [
    "#------------4d restrict number of cars can be shipped from Denver to LA and Memphis to Atlanta---------------------------------"
   ]
  },
  {
   "cell_type": "code",
   "execution_count": null,
   "id": "45c9532a",
   "metadata": {},
   "outputs": [],
   "source": [
    "#enforcing the new capacity\n",
    "relevant = ['route_3_5', 'route_4_6']    \n",
    "print(lpSum([route_qty[route] for route in relevant]))\n",
    "prob+=lpSum([route_qty[route] for route in relevant])<=3000\n",
    "\n",
    "# solving the problem using pulp solver\n",
    "prob.solve()\n",
    "print(pulp.value(prob.objective))\n",
    "# The status of the solution is printed to the screen\n",
    "print(\"Status:\", LpStatus[prob.status])\n",
    "\n",
    "for v in prob.variables():\n",
    "    if v.varValue>0:\n",
    "        print(v.name, \"=\", v.varValue)"
   ]
  }
 ],
 "metadata": {
  "kernelspec": {
   "display_name": "Python 3 (ipykernel)",
   "language": "python",
   "name": "python3"
  },
  "language_info": {
   "codemirror_mode": {
    "name": "ipython",
    "version": 3
   },
   "file_extension": ".py",
   "mimetype": "text/x-python",
   "name": "python",
   "nbconvert_exporter": "python",
   "pygments_lexer": "ipython3",
   "version": "3.11.5"
  }
 },
 "nbformat": 4,
 "nbformat_minor": 5
}
